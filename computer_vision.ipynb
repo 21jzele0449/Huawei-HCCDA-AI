{
 "cells": [
  {
   "cell_type": "code",
   "execution_count": 5,
   "id": "166afed6",
   "metadata": {},
   "outputs": [],
   "source": [
    "import cv2\n"
   ]
  },
  {
   "cell_type": "code",
   "execution_count": 13,
   "id": "2f312f3b",
   "metadata": {},
   "outputs": [
    {
     "name": "stdout",
     "output_type": "stream",
     "text": [
      "(4064, 3048, 3)\n"
     ]
    }
   ],
   "source": [
    "image = cv2.imread('e:\\\\mobile data\\\\usama\\\\usama.jpeg')\n",
    "print(image.shape)  # Output: (height, width, channels)\n",
    "cv2.imshow(\"myimage\",image)\n",
    "cv2.waitKey(0)\n",
    "cv2.destroyAllWindows()"
   ]
  },
  {
   "cell_type": "code",
   "execution_count": 19,
   "id": "61bd7ec3",
   "metadata": {},
   "outputs": [
    {
     "data": {
      "text/plain": [
       "True"
      ]
     },
     "execution_count": 19,
     "metadata": {},
     "output_type": "execute_result"
    }
   ],
   "source": [
    "cv2.imwrite('e:\\\\mobile data\\\\usama\\\\usama_edited.jpeg',image)"
   ]
  },
  {
   "cell_type": "code",
   "execution_count": 21,
   "id": "d212aed6",
   "metadata": {},
   "outputs": [
    {
     "data": {
      "text/plain": [
       "True"
      ]
     },
     "execution_count": 21,
     "metadata": {},
     "output_type": "execute_result"
    }
   ],
   "source": [
    "# make a folder and save image in it\n",
    "import os\n",
    "folder_path = 'e:\\\\mobile data\\\\usama\\\\edited_images'\n",
    "if not os.path.exists(folder_path):\n",
    "    os.makedirs(folder_path)\n",
    "cv2.imwrite(os.path.join(folder_path, 'usama_edit.jpeg'), image)"
   ]
  },
  {
   "cell_type": "code",
   "execution_count": 22,
   "id": "4fbd3472",
   "metadata": {},
   "outputs": [],
   "source": [
    "#make a black image  and draw a line on it\n",
    "black_image = cv2.imread('e:\\\\mobile data\\\\usama\\\\usama.jpeg')\n",
    "black_image = cv2.cvtColor(black_image, cv2.COLOR_BGR2GRAY)\n",
    "black_image = cv2.cvtColor(black_image, cv2.COLOR_GRAY2BGR) \n",
    "cv2.line(black_image, (0, 0), (black_image.shape[1], black_image.shape[0]), (255, 0, 0), 5)\n",
    "cv2.imshow(\"black_image\", black_image)\n",
    "cv2.waitKey(0)\n",
    "cv2.destroyAllWindows()\n"
   ]
  },
  {
   "cell_type": "code",
   "execution_count": 39,
   "id": "5405f02b",
   "metadata": {},
   "outputs": [],
   "source": [
    "#create a blank black image\n",
    "blank_image = cv2.imread('e:\\\\mobile data\\\\usama\\\\usama.jpeg')\n",
    "blank_image = cv2.cvtColor(blank_image, cv2.COLOR_BGR2GRAY)\n",
    "blank_image = cv2.cvtColor(blank_image, cv2.COLOR_GRAY2BGR)\n",
    "blank_image[:] = (0, 0, 0)  # Set all pixels to\n",
    "cv2.imshow(\"blank_image\", blank_image)\n",
    "cv2.waitKey(0)\n",
    "cv2.destroyAllWindows()"
   ]
  },
  {
   "cell_type": "code",
   "execution_count": 44,
   "id": "bb42ea50",
   "metadata": {},
   "outputs": [],
   "source": [
    "#draw a rectangle on that balck image\n",
    "cv2.rectangle(blank_image, (50, 50), (200, 200), (0, 200, 0), 1)\n",
    "cv2.imshow(\"rectangle_image\", blank_image)\n",
    "cv2.waitKey(0)\n",
    "cv2.destroyAllWindows()"
   ]
  },
  {
   "cell_type": "code",
   "execution_count": 45,
   "id": "c1d66317",
   "metadata": {},
   "outputs": [],
   "source": [
    "#draw a circle on that black image\n",
    "cv2.circle(blank_image, (150, 150), 50, (0, 0, 255), -1)  # Filled circle\n",
    "cv2.imshow(\"circle_image\", blank_image)\n",
    "cv2.waitKey(0)\n",
    "cv2.destroyAllWindows()\n"
   ]
  },
  {
   "cell_type": "code",
   "execution_count": 7,
   "id": "db827cac",
   "metadata": {},
   "outputs": [],
   "source": [
    "#how to on camera\n",
    "cap = cv2.VideoCapture(0) \n",
    "while True:\n",
    "    ret, frame = cap.read()\n",
    "    if not ret:\n",
    "        break\n",
    "    cv2.imshow('Camera Feed', frame)\n",
    "    \n",
    "    if cv2.waitKey(1) & 0xFF == ord('q'):\n",
    "        break\n",
    "cap.release()\n",
    "cv2.destroyAllWindows()\n",
    "#how to on camera and save image\n",
    "cap = cv2.VideoCapture(0)\n",
    "while True:\n",
    "    ret, frame = cap.read()\n",
    "    if not ret:\n",
    "        break\n",
    "    cv2.imshow('Camera Feed', frame)\n",
    "    \n",
    "    if cv2.waitKey(1) & 0xFF == ord('s'):\n",
    "        cv2.imwrite('e:\\\\mobile data\\\\usama\\\\captured_image.jpeg', frame)\n",
    "        print(\"Image saved!\")\n",
    "    \n",
    "    if cv2.waitKey(1) & 0xFF == ord('q'):\n",
    "        break\n",
    "cap.release()\n",
    "cv2.destroyAllWindows()"
   ]
  },
  {
   "cell_type": "code",
   "execution_count": 15,
   "id": "d1b3a7fa",
   "metadata": {},
   "outputs": [],
   "source": [
    "import cv2\n",
    "image = cv2.imread('e:\\\\mobile data\\\\usama\\\\usama.jpeg')\n",
    "if image is None:\n",
    "    print(\"Error: Could not read the image.\")   \n",
    "    exit()\n",
    "\n",
    "    resized_image = cv2.resize(image, (300, 300))\n",
    "    cv2.imshow(\"Resized Image\", resized_image)\n",
    "    cv2.waitKey(0)\n",
    "    cv2.destroyAllWindows()\n",
    "# Resize the image to 300x300 pixels\n",
    "resized_image = cv2.resize(image, (300, 300))\n",
    "cv2.imshow(\"Resized Image\", resized_image)\n",
    "cv2.waitKey(0)\n",
    "cv2.destroyAllWindows()\n",
    "\n",
    "    "
   ]
  },
  {
   "cell_type": "code",
   "execution_count": 16,
   "id": "61edcbe6",
   "metadata": {},
   "outputs": [],
   "source": [
    "import cv2\n",
    "image = cv2.imread('e:\\\\mobile data\\\\usama\\\\usama.jpeg')\n",
    "if image is None:\n",
    "    print(\"Error: Could not read the image.\")   \n",
    "    exit()\n",
    "    cropped_image = image[50:200, 50:200] \n",
    "    \n",
    "    cv2.imshow(\"Cropped Image\", cropped_image)\n",
    "    cv2.imshow(\"orignal image\", image)\n",
    "\n",
    "    cv2.waitKey(0)\n",
    "    cv2.destroyAllWindows()\n",
    "# Crop the image to a region of interest (ROI)\n",
    "cropped_image = image[50:200, 50:200]\n",
    "cv2.imshow(\"Cropped Image\", cropped_image)\n",
    "cv2.imshow(\"orignal image\", image)\n",
    "cv2.waitKey(0)\n",
    "cv2.destroyAllWindows()"
   ]
  },
  {
   "cell_type": "code",
   "execution_count": 19,
   "id": "ed0fe2ba",
   "metadata": {},
   "outputs": [],
   "source": [
    "# to rotate image\n",
    "import cv2\n",
    "import numpy as np\n",
    "\n",
    "img = cv2.imread('e:\\\\mobile data\\\\usama\\\\usama.jpeg')\n",
    "if img is None:\n",
    "    print(\"Error: Could not read the image.\")\n",
    "    exit()\n",
    "(height, width) = img.shape[:2]\n",
    "center = (width // 2, height // 2)\n",
    "M = cv2.getRotationMatrix2D(center, 45, 1.0)\n",
    "rotated_image = cv2.warpAffine(img, M, (width, height))\n",
    "cv2.imshow(\"Rotated Image\", rotated_image)\n",
    "cv2.imshow(\"Original Image\", img)\n",
    "cv2.waitKey(0)\n",
    "cv2.destroyAllWindows()\n"
   ]
  },
  {
   "cell_type": "code",
   "execution_count": null,
   "id": "23550ad5",
   "metadata": {},
   "outputs": [],
   "source": []
  }
 ],
 "metadata": {
  "kernelspec": {
   "display_name": "Python 3",
   "language": "python",
   "name": "python3"
  },
  "language_info": {
   "codemirror_mode": {
    "name": "ipython",
    "version": 3
   },
   "file_extension": ".py",
   "mimetype": "text/x-python",
   "name": "python",
   "nbconvert_exporter": "python",
   "pygments_lexer": "ipython3",
   "version": "3.10.16"
  }
 },
 "nbformat": 4,
 "nbformat_minor": 5
}
