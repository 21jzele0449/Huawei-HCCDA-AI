{
 "cells": [
  {
   "cell_type": "code",
   "execution_count": null,
   "id": "af35519c",
   "metadata": {},
   "outputs": [
    {
     "name": "stdout",
     "output_type": "stream",
     "text": [
      "5 10 20\n"
     ]
    }
   ],
   "source": [
    "apple = 5\n",
    "Banana = 10\n",
    "Mango = 20\n",
    "print(apple , Banana , Mango)"
   ]
  },
  {
   "cell_type": "code",
   "execution_count": 4,
   "id": "165c4cc2",
   "metadata": {},
   "outputs": [
    {
     "data": {
      "text/plain": [
       "int"
      ]
     },
     "execution_count": 4,
     "metadata": {},
     "output_type": "execute_result"
    }
   ],
   "source": [
    "type(apple)"
   ]
  },
  {
   "cell_type": "code",
   "execution_count": 5,
   "id": "25dcc0ef",
   "metadata": {},
   "outputs": [
    {
     "name": "stdout",
     "output_type": "stream",
     "text": [
      "0.273867\n"
     ]
    }
   ],
   "source": [
    "school  = 0.273867\n",
    "print(school)"
   ]
  },
  {
   "cell_type": "code",
   "execution_count": 6,
   "id": "ed2b5384",
   "metadata": {},
   "outputs": [
    {
     "data": {
      "text/plain": [
       "float"
      ]
     },
     "execution_count": 6,
     "metadata": {},
     "output_type": "execute_result"
    }
   ],
   "source": [
    "type(school)"
   ]
  },
  {
   "cell_type": "code",
   "execution_count": 10,
   "id": "44ce21dd",
   "metadata": {},
   "outputs": [
    {
     "name": "stdout",
     "output_type": "stream",
     "text": [
      "usamaa ahmad\n"
     ]
    }
   ],
   "source": [
    "strng_1 = \"usamaa ahmad\"\n",
    "print(strng_1)"
   ]
  },
  {
   "cell_type": "code",
   "execution_count": 11,
   "id": "38656d10",
   "metadata": {},
   "outputs": [
    {
     "data": {
      "text/plain": [
       "str"
      ]
     },
     "execution_count": 11,
     "metadata": {},
     "output_type": "execute_result"
    }
   ],
   "source": [
    "type(strng_1)"
   ]
  },
  {
   "cell_type": "code",
   "execution_count": 13,
   "id": "56ff5711",
   "metadata": {},
   "outputs": [
    {
     "name": "stdout",
     "output_type": "stream",
     "text": [
      "True\n"
     ]
    }
   ],
   "source": [
    "bool_1 = True\n",
    "print(bool_1)"
   ]
  },
  {
   "cell_type": "code",
   "execution_count": 14,
   "id": "06c17d09",
   "metadata": {},
   "outputs": [
    {
     "data": {
      "text/plain": [
       "bool"
      ]
     },
     "execution_count": 14,
     "metadata": {},
     "output_type": "execute_result"
    }
   ],
   "source": [
    "type(bool_1)"
   ]
  },
  {
   "cell_type": "code",
   "execution_count": 16,
   "id": "6459359e",
   "metadata": {},
   "outputs": [
    {
     "name": "stdout",
     "output_type": "stream",
     "text": [
      "False\n"
     ]
    }
   ],
   "source": [
    "bool_2 = False\n",
    "print(bool_2)"
   ]
  },
  {
   "cell_type": "code",
   "execution_count": 17,
   "id": "79ce835c",
   "metadata": {},
   "outputs": [
    {
     "data": {
      "text/plain": [
       "bool"
      ]
     },
     "execution_count": 17,
     "metadata": {},
     "output_type": "execute_result"
    }
   ],
   "source": [
    "type(bool_2)"
   ]
  },
  {
   "cell_type": "code",
   "execution_count": 23,
   "id": "71d7398d",
   "metadata": {},
   "outputs": [
    {
     "name": "stdout",
     "output_type": "stream",
     "text": [
      "[]\n"
     ]
    }
   ],
   "source": [
    "list = []\n",
    "print(list)"
   ]
  },
  {
   "cell_type": "code",
   "execution_count": 18,
   "id": "a3ea6314",
   "metadata": {},
   "outputs": [
    {
     "name": "stdout",
     "output_type": "stream",
     "text": [
      "[1, 2, 3, 4, 5, 6, 7, 8, 9]\n"
     ]
    }
   ],
   "source": [
    "list = [1,2,3,4,5,6,7,8,9]\n",
    "print(list)"
   ]
  },
  {
   "cell_type": "code",
   "execution_count": 19,
   "id": "03cb6c72",
   "metadata": {},
   "outputs": [
    {
     "data": {
      "text/plain": [
       "list"
      ]
     },
     "execution_count": 19,
     "metadata": {},
     "output_type": "execute_result"
    }
   ],
   "source": [
    "type(list)"
   ]
  },
  {
   "cell_type": "code",
   "execution_count": 20,
   "id": "0d355bc2",
   "metadata": {},
   "outputs": [
    {
     "name": "stdout",
     "output_type": "stream",
     "text": [
      "['A', 'B', 'C', 'D']\n"
     ]
    }
   ],
   "source": [
    "list_3 = ['A','B','C','D']\n",
    "print(list_3)"
   ]
  },
  {
   "cell_type": "code",
   "execution_count": 21,
   "id": "9dde70ba",
   "metadata": {},
   "outputs": [
    {
     "data": {
      "text/plain": [
       "list"
      ]
     },
     "execution_count": 21,
     "metadata": {},
     "output_type": "execute_result"
    }
   ],
   "source": [
    "type(list_3)"
   ]
  },
  {
   "cell_type": "code",
   "execution_count": 22,
   "id": "bac2a2dd",
   "metadata": {},
   "outputs": [
    {
     "name": "stdout",
     "output_type": "stream",
     "text": [
      "['True', 'usama', 'Ahmad']\n"
     ]
    }
   ],
   "source": [
    "list_4 = ['True' , 'usama', 'Ahmad']\n",
    "print(list_4)"
   ]
  },
  {
   "cell_type": "code",
   "execution_count": null,
   "id": "e7438cad",
   "metadata": {},
   "outputs": [
    {
     "name": "stdout",
     "output_type": "stream",
     "text": [
      "[[1, 2, 3], [4, 5, 6], [7, 8, 9]]\n"
     ]
    }
   ],
   "source": [
    "list_5 = [[1,2,3],[4,5,6],[7,8,9]]\n",
    "print(list_5)"
   ]
  },
  {
   "cell_type": "code",
   "execution_count": 26,
   "id": "06d960f0",
   "metadata": {},
   "outputs": [
    {
     "name": "stdout",
     "output_type": "stream",
     "text": [
      "(1, 2, 3, 4, 5)\n"
     ]
    }
   ],
   "source": [
    "tuple_1 = (1,2,3,4,5)\n",
    "print(tuple_1)"
   ]
  },
  {
   "cell_type": "code",
   "execution_count": 27,
   "id": "456ee9bf",
   "metadata": {},
   "outputs": [
    {
     "data": {
      "text/plain": [
       "tuple"
      ]
     },
     "execution_count": 27,
     "metadata": {},
     "output_type": "execute_result"
    }
   ],
   "source": [
    "type(tuple_1)"
   ]
  },
  {
   "cell_type": "markdown",
   "id": "51afac18",
   "metadata": {},
   "source": [
    "## Dictionary"
   ]
  },
  {
   "cell_type": "code",
   "execution_count": 31,
   "id": "c256e493",
   "metadata": {},
   "outputs": [
    {
     "name": "stdout",
     "output_type": "stream",
     "text": [
      "{'Ali': 10, 'khan': 20, 'usama': 30}\n"
     ]
    }
   ],
   "source": [
    "dict_1 = {\"Ali\": 10,\n",
    "          \"khan\":20,\n",
    "          \"usama\":30\n",
    "\n",
    "}\n",
    "print(dict_1)"
   ]
  },
  {
   "cell_type": "code",
   "execution_count": 32,
   "id": "8abcab1c",
   "metadata": {},
   "outputs": [
    {
     "data": {
      "text/plain": [
       "dict"
      ]
     },
     "execution_count": 32,
     "metadata": {},
     "output_type": "execute_result"
    }
   ],
   "source": [
    "type(dict_1)"
   ]
  },
  {
   "cell_type": "code",
   "execution_count": 39,
   "id": "7256e961",
   "metadata": {},
   "outputs": [
    {
     "data": {
      "text/plain": [
       "1234.0"
      ]
     },
     "execution_count": 39,
     "metadata": {},
     "output_type": "execute_result"
    }
   ],
   "source": [
    "x = \"1234\"\n",
    "y = float(x)\n",
    "y"
   ]
  },
  {
   "cell_type": "code",
   "execution_count": 53,
   "id": "c97d3818",
   "metadata": {},
   "outputs": [
    {
     "name": "stdout",
     "output_type": "stream",
     "text": [
      "a+b = 30\n",
      "a-b = -10\n",
      "a*b = 200\n",
      "a/b = 0.5\n"
     ]
    }
   ],
   "source": [
    "a = 10\n",
    "b = 20\n",
    "sum = a+b\n",
    "sub = a-b\n",
    "mul = a*b\n",
    "div = a/b\n",
    "print(\"a+b =\",sum)\n",
    "print(\"a-b =\",sub)\n",
    "print(\"a*b =\",mul)\n",
    "print(\"a/b =\",div)"
   ]
  },
  {
   "cell_type": "code",
   "execution_count": 55,
   "id": "80560c30",
   "metadata": {},
   "outputs": [
    {
     "name": "stdout",
     "output_type": "stream",
     "text": [
      "Hello, this is me Usama ahmad\n"
     ]
    }
   ],
   "source": [
    "str1 = \"Hello, this is me \"\n",
    "str2 = \"Usama ahmad\"\n",
    "str3 = str1+str2\n",
    "print(str3)"
   ]
  },
  {
   "cell_type": "code",
   "execution_count": 56,
   "id": "8b30ce53",
   "metadata": {},
   "outputs": [
    {
     "data": {
      "text/plain": [
       "'THIS IS MARDAN'"
      ]
     },
     "execution_count": 56,
     "metadata": {},
     "output_type": "execute_result"
    }
   ],
   "source": [
    "var1  = \"this is mardan\"\n",
    "var1.upper()"
   ]
  },
  {
   "cell_type": "code",
   "execution_count": 57,
   "id": "eef34fd7",
   "metadata": {},
   "outputs": [
    {
     "data": {
      "text/plain": [
       "'usamaa ahmad'"
      ]
     },
     "execution_count": 57,
     "metadata": {},
     "output_type": "execute_result"
    }
   ],
   "source": [
    "var2 = \"USAMAA AHMAD\"\n",
    "var2.lower()"
   ]
  },
  {
   "cell_type": "code",
   "execution_count": 58,
   "id": "339e05c7",
   "metadata": {},
   "outputs": [
    {
     "data": {
      "text/plain": [
       "'Usamaa Ahmad'"
      ]
     },
     "execution_count": 58,
     "metadata": {},
     "output_type": "execute_result"
    }
   ],
   "source": [
    "var2.title()"
   ]
  },
  {
   "cell_type": "code",
   "execution_count": 59,
   "id": "141d5736",
   "metadata": {},
   "outputs": [
    {
     "data": {
      "text/plain": [
       "'Usamaa ahmad'"
      ]
     },
     "execution_count": 59,
     "metadata": {},
     "output_type": "execute_result"
    }
   ],
   "source": [
    "var2.capitalize()"
   ]
  },
  {
   "cell_type": "code",
   "execution_count": 61,
   "id": "1fe05864",
   "metadata": {},
   "outputs": [
    {
     "data": {
      "text/plain": [
       "'this      is pakistan'"
      ]
     },
     "execution_count": 61,
     "metadata": {},
     "output_type": "execute_result"
    }
   ],
   "source": [
    "var3 = \"this      is pakistan \"\n",
    "var3.strip()"
   ]
  },
  {
   "cell_type": "code",
   "execution_count": 62,
   "id": "60c98b37",
   "metadata": {},
   "outputs": [
    {
     "data": {
      "text/plain": [
       "'thare      are pakaretan '"
      ]
     },
     "execution_count": 62,
     "metadata": {},
     "output_type": "execute_result"
    }
   ],
   "source": [
    "var3.replace(\"is\" , \"are\")"
   ]
  },
  {
   "cell_type": "code",
   "execution_count": 64,
   "id": "a384603b",
   "metadata": {},
   "outputs": [
    {
     "data": {
      "text/plain": [
       "15"
      ]
     },
     "execution_count": 64,
     "metadata": {},
     "output_type": "execute_result"
    }
   ],
   "source": [
    "var5 = \"this is mardan city\"\n",
    "var5.find(\"city\")"
   ]
  },
  {
   "cell_type": "code",
   "execution_count": 83,
   "id": "9cb8cb79",
   "metadata": {},
   "outputs": [
    {
     "name": "stdout",
     "output_type": "stream",
     "text": [
      "[3, 4, 5, 6]\n"
     ]
    }
   ],
   "source": [
    "z = [1,2,3,4,5,6,7]\n",
    "w =z[-5:-1]\n",
    "print(w)"
   ]
  },
  {
   "cell_type": "code",
   "execution_count": 85,
   "id": "45875d59",
   "metadata": {},
   "outputs": [
    {
     "name": "stdout",
     "output_type": "stream",
     "text": [
      "[1, 2, 3, 4, 5, 10]\n"
     ]
    }
   ],
   "source": [
    "c =[1,2,3,4,5]\n",
    "c.append(10)\n",
    "print(c)"
   ]
  },
  {
   "cell_type": "code",
   "execution_count": 86,
   "id": "e5b2b710",
   "metadata": {},
   "outputs": [
    {
     "name": "stdout",
     "output_type": "stream",
     "text": [
      "[1, 2, 3, 9, 4, 5, 10]\n"
     ]
    }
   ],
   "source": [
    "c.insert(3,9)\n",
    "print(c)"
   ]
  },
  {
   "cell_type": "code",
   "execution_count": null,
   "id": "36d2a26a",
   "metadata": {},
   "outputs": [
    {
     "name": "stdout",
     "output_type": "stream",
     "text": [
      "[1, 2, 4, 10]\n"
     ]
    }
   ],
   "source": [
    "c.remove(9)       #remove delete the item by value and does not return it\n",
    "print(c)"
   ]
  },
  {
   "cell_type": "code",
   "execution_count": null,
   "id": "56db1697",
   "metadata": {},
   "outputs": [
    {
     "name": "stdout",
     "output_type": "stream",
     "text": [
      "[9, 8, 7, 6, 4, 3]\n"
     ]
    }
   ],
   "source": [
    "e = [9,8,7,6,5,4,3]       #pop remove the value by index number and return it\n",
    "e.pop(4)\n",
    "print(e)"
   ]
  },
  {
   "cell_type": "code",
   "execution_count": 100,
   "id": "ab201932",
   "metadata": {},
   "outputs": [
    {
     "name": "stdout",
     "output_type": "stream",
     "text": [
      "blue\n",
      "red\n"
     ]
    }
   ],
   "source": [
    "variable_1 = [\"yellow\", \"red\" , \"blue\" ,\"green\"]\n",
    "fav_1 = variable_1[2]\n",
    "fav_2 = variable_1[1]\n",
    "print(fav_1)\n",
    "print(fav_2)"
   ]
  },
  {
   "cell_type": "code",
   "execution_count": 103,
   "id": "f0ac0e90",
   "metadata": {},
   "outputs": [
    {
     "name": "stdout",
     "output_type": "stream",
     "text": [
      "ahmad\n",
      "asad\n"
     ]
    }
   ],
   "source": [
    "variable_2 = (\"usama\" , \"ali\" , \"ahmad\", \"asad\")\n",
    "fav_1 = variable_2[2]\n",
    "fav_2 = variable_2[3]\n",
    "print(fav_1)\n",
    "print(fav_2)"
   ]
  },
  {
   "cell_type": "code",
   "execution_count": 1,
   "id": "754769fd",
   "metadata": {},
   "outputs": [],
   "source": [
    "import numpy as np"
   ]
  },
  {
   "cell_type": "code",
   "execution_count": 5,
   "id": "1f259863",
   "metadata": {},
   "outputs": [
    {
     "data": {
      "text/plain": [
       "array([[1, 2, 3],\n",
       "       [4, 5, 6]])"
      ]
     },
     "execution_count": 5,
     "metadata": {},
     "output_type": "execute_result"
    }
   ],
   "source": [
    "arr = np.array([[1,2,3,], [4,5,6]])\n",
    "arr"
   ]
  },
  {
   "cell_type": "code",
   "execution_count": null,
   "id": "eca2543f",
   "metadata": {},
   "outputs": [],
   "source": []
  }
 ],
 "metadata": {
  "kernelspec": {
   "display_name": "Python 3",
   "language": "python",
   "name": "python3"
  },
  "language_info": {
   "codemirror_mode": {
    "name": "ipython",
    "version": 3
   },
   "file_extension": ".py",
   "mimetype": "text/x-python",
   "name": "python",
   "nbconvert_exporter": "python",
   "pygments_lexer": "ipython3",
   "version": "3.10.16"
  }
 },
 "nbformat": 4,
 "nbformat_minor": 5
}
